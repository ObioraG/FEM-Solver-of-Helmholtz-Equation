{
  "nbformat": 4,
  "nbformat_minor": 0,
  "metadata": {
    "colab": {
      "name": "Helmholtz_damped",
      "provenance": [],
      "collapsed_sections": []
    },
    "kernelspec": {
      "name": "python3",
      "display_name": "Python 3"
    }
  },
  "cells": [
    {
      "cell_type": "code",
      "metadata": {
        "id": "pqVIv0UTJXg2",
        "colab_type": "code",
        "colab": {
          "base_uri": "https://localhost:8080/",
          "height": 35
        },
        "outputId": "a732868e-6191-4b50-a137-dd0254eb7ca5"
      },
      "source": [
        "from IPython.utils import io\n",
        "from google.colab import files\n",
        "\n",
        "import platform, sys\n",
        "python_version=platform.python_version()\n",
        "from distutils.version import LooseVersion, StrictVersion\n",
        "\n",
        "\n",
        "with io.capture_output() as captured:\n",
        "  if ( LooseVersion(python_version) < LooseVersion(\"3.0.0\")):\n",
        "      print(\"Python3 is needed!\");\n",
        "      print(\"How to fix: Runtime/Change_runtime_type/Python 3\");\n",
        "      sys.exit()\n",
        "      \n",
        "  try:\n",
        "      from dolfin import *; from mshr import *\n",
        "  except ImportError as e:\n",
        "      !apt-get install -y -qq software-properties-common python-software-properties module-init-tools\n",
        "      !add-apt-repository -y ppa:fenics-packages/fenics\n",
        "      !apt-get update -qq\n",
        "      !apt install -y --no-install-recommends fenics\n",
        "      from dolfin import *; from mshr import *\n",
        "    \n",
        "import matplotlib.pyplot as plt;\n",
        "from IPython.display import clear_output, display; import time; import dolfin.common.plotting as fenicsplot \n",
        "import time\n",
        "\n",
        "import os, sys, shutil\n",
        "\n",
        "dolfin_version = dolfin.__version__\n",
        "print ('dolfin version:', dolfin_version)\n",
        "\n",
        "!rm -rf * # clean up all files"
      ],
      "execution_count": 1,
      "outputs": [
        {
          "output_type": "stream",
          "text": [
            "dolfin version: 2019.1.0\n"
          ],
          "name": "stdout"
        }
      ]
    },
    {
      "cell_type": "code",
      "metadata": {
        "id": "4j16aC05eF_c",
        "colab_type": "code",
        "colab": {}
      },
      "source": [
        "class Bottom(SubDomain):\n",
        "    def inside(self, x, on_boundary):\n",
        "        return near(x[1], -1)\n",
        "\n",
        "class Top(SubDomain):\n",
        "    def inside(self, x, on_boundary):\n",
        "        return near(x[1], 4.0)\n",
        "class Left(SubDomain):\n",
        "    def inside(self, x, on_boundary):\n",
        "        return near(x[0], 0)\n",
        "\n",
        "class Right(SubDomain):\n",
        "    def inside(self, x, on_boundary):\n",
        "        return near(x[0], 5.0)\n",
        "\n",
        "\n",
        "# Define domain\n",
        "domain = Rectangle(Point(0, -1), Point(5, 4))\n",
        "\n",
        "\n",
        "# Initialize sub-domain instances\n",
        "top = Top()\n",
        "left = Left()\n",
        "right = Right()\n",
        "bottom = Bottom()\n",
        "\n",
        "#initialize mesh\n",
        "mesh = generate_mesh(domain, 100)\n",
        "\n",
        "# Initialize mesh function for interior domains\n",
        "domains = MeshFunction(\"size_t\", mesh,2)\n",
        "\n",
        "boundaries = MeshFunction(\"size_t\", mesh,1)\n",
        "boundaries.set_all(0)\n",
        "left.mark(boundaries, 1)\n",
        "top.mark(boundaries, 2)\n",
        "right.mark(boundaries, 3)\n",
        "bottom.mark(boundaries, 4)\n",
        "\n",
        "\n"
      ],
      "execution_count": 35,
      "outputs": []
    },
    {
      "cell_type": "code",
      "metadata": {
        "id": "Ugr07k0VEHQl",
        "colab_type": "code",
        "colab": {}
      },
      "source": [
        "omega=2.0\n",
        "theta=pi/2\n",
        "alpha=2 #damping coefficient \n",
        "# Define function G such that G \\cdot n = g\n",
        "#class BoundarySource(UserExpression):\n",
        "  #  def __init__(self, mesh, **kwargs):\n",
        "    #    self.mesh = mesh\n",
        "     #   super().__init__(**kwargs)\n",
        "    #def eval_cell(self, values, x, ufc_cell):\n",
        "    #    cell = Cell(self.mesh, ufc_cell.index)\n",
        "     #   n = cell.normal(ufc_cell.local_facet)\n",
        "     #   g = sin(2*pi*omega*(cos(theta)*x[0]+sin(theta)*x[1]))\n",
        "     #   values[0] = g*n[0]\n",
        "    #    values[1] = g*n[1]\n",
        "   # def value_shape(self):\n",
        "     #   return (2,)\n",
        "\n",
        "#G = BoundarySource(mesh, degree=2)    "
      ],
      "execution_count": 36,
      "outputs": []
    },
    {
      "cell_type": "code",
      "metadata": {
        "id": "qtsCFh0j8DVe",
        "colab_type": "code",
        "colab": {
          "base_uri": "https://localhost:8080/",
          "height": 521
        },
        "outputId": "5ab25ae4-6f2b-4dac-ba95-23a66c73a570"
      },
      "source": [
        "#Helmholtz equation with Dirichlet boundary conditions\n",
        "#def Helmholtz(mesh, frequency, sigma=Constant(0), c=343):\n",
        "    \n",
        "# squared wavenumber\n",
        "k = Constant(2*pi*5)\n",
        "alpha=2 #damping coefficient\n",
        "\n",
        "# Define finite elements spaces and build mixed space\n",
        "V=VectorFunctionSpace(mesh,\"CG\",1,dim=2)\n",
        "\n",
        "# Define Dirichlet boundary conditions at top(2) and (bottom)(4), right(3), left (1) boundaries\n",
        "bcs = [DirichletBC(V, (0.0,0), boundaries, 1), DirichletBC(V, (0.0,0), boundaries, 2), \n",
        "DirichletBC(V, (0.0,0), boundaries, 3), DirichletBC(V, (0,0), boundaries, 4)]\n",
        "\n",
        "# define variational problem/weak form as a vector\n",
        "(u_r, u_i) = TrialFunction(V)\n",
        "(v_r, v_i) = TestFunction(V)\n",
        "\n",
        "a_r = (-inner(grad(u_r), grad(v_r)) + k**2*u_r*v_r-alpha*k*u_i*v_r) * dx\n",
        "a_i = (-inner(grad(u_i), grad(v_i)) + k**2*u_i*v_i + k*alpha*u_r*v_i) * dx\n",
        "L_r = Expression(\"sin(x[0])\", degree=2) * v_r * dx #look up degree\n",
        "L_i = Constant(0) * v_i * dx\n",
        "\n",
        "a = a_r + a_i\n",
        "L = L_r + L_i\n",
        "A, b = assemble_system(a, L, bcs) #include boundary conditions (mass matrix A)\n",
        "\n",
        "#define inhomogenity\n",
        "delta = PointSource(V, Point(2.5,1.5), 1)  # negative amplitude accounts for -v in inhomogeneous wave equation (1/c^2)(u''-grad^2u)=-v\n",
        "delta.apply(b)\n",
        "\n",
        "\n",
        "\n",
        "# Compute solution\n",
        "u = Function(V)\n",
        "solve(A, u.vector(), b)\n",
        "(u_r, u_i) = u.split()\n",
        "\n",
        "# Plot sigma and u\n",
        "plt.figure()\n",
        "plot(u_r)\n",
        "\n",
        "plt.figure()\n",
        "plot(u_i)\n",
        "\n",
        "plt.show()\n",
        "# return u_r, u_i"
      ],
      "execution_count": 38,
      "outputs": [
        {
          "output_type": "display_data",
          "data": {
            "image/png": "[encoded data removed]",
            "text/plain": [
              "<Figure size 432x288 with 1 Axes>"
            ]
          },
          "metadata": {
            "tags": [],
            "needs_background": "light"
          }
        },
        {
          "output_type": "display_data",
          "data": {
            "image/png": "[encoded data removed]",
            "text/plain": [
              "<Figure size 432x288 with 1 Axes>"
            ]
          },
          "metadata": {
            "tags": [],
            "needs_background": "light"
          }
        }
      ]
    },
    {
      "cell_type": "code",
      "metadata": {
        "id": "UU7DIz4PKxOq",
        "colab_type": "code",
        "colab": {}
      },
      "source": [
        "def plot_solution(w):\n",
        "    '''plots solution of FEM-based simulation'''\n",
        "    fig = plt.figure(figsize=(10,10))\n",
        "    fig = plot(w)\n",
        "    plt.title(r'$w(\\mathbf{x},\\omega)$') #x is vector\n",
        "    plt.xlabel(r'$x$')\n",
        "    plt.ylabel(r'$y$')\n",
        "    plt.colorbar(fig, fraction=0.04, pad=0.04);"
      ],
      "execution_count": null,
      "outputs": []
    },
    {
      "cell_type": "code",
      "metadata": {
        "id": "pktvKy2uIx7C",
        "colab_type": "code",
        "colab": {
          "base_uri": "https://localhost:8080/",
          "height": 641
        },
        "outputId": "73ea115a-b55b-4d21-8176-f08c61b801ac"
      },
      "source": [
        "# define geometry and mesh\n",
        "\n",
        "w=Helmholtz(mesh, omega, sigma=Constant(2*pi*omega))"
      ],
      "execution_count": null,
      "outputs": [
        {
          "output_type": "error",
          "ename": "RuntimeError",
          "evalue": "ignored",
          "traceback": [
            "\u001b[0;31m---------------------------------------------------------------------------\u001b[0m",
            "\u001b[0;31mRuntimeError\u001b[0m                              Traceback (most recent call last)",
            "\u001b[0;32m<ipython-input-8-23572557f886>\u001b[0m in \u001b[0;36m<module>\u001b[0;34m()\u001b[0m\n\u001b[1;32m      1\u001b[0m \u001b[0;31m# define geometry and mesh\u001b[0m\u001b[0;34m\u001b[0m\u001b[0;34m\u001b[0m\u001b[0;34m\u001b[0m\u001b[0m\n\u001b[1;32m      2\u001b[0m \u001b[0;34m\u001b[0m\u001b[0m\n\u001b[0;32m----> 3\u001b[0;31m \u001b[0mw\u001b[0m\u001b[0;34m=\u001b[0m\u001b[0mHelmholtz\u001b[0m\u001b[0;34m(\u001b[0m\u001b[0mmesh\u001b[0m\u001b[0;34m,\u001b[0m \u001b[0momega\u001b[0m\u001b[0;34m,\u001b[0m \u001b[0msigma\u001b[0m\u001b[0;34m=\u001b[0m\u001b[0mConstant\u001b[0m\u001b[0;34m(\u001b[0m\u001b[0;36m2\u001b[0m\u001b[0;34m*\u001b[0m\u001b[0mpi\u001b[0m\u001b[0;34m*\u001b[0m\u001b[0momega\u001b[0m\u001b[0;34m)\u001b[0m\u001b[0;34m)\u001b[0m\u001b[0;34m\u001b[0m\u001b[0;34m\u001b[0m\u001b[0m\n\u001b[0m",
            "\u001b[0;32m<ipython-input-4-bfaa43e273e4>\u001b[0m in \u001b[0;36mHelmholtz\u001b[0;34m(mesh, frequency, sigma, c)\u001b[0m\n\u001b[1;32m     12\u001b[0m \u001b[0;34m\u001b[0m\u001b[0m\n\u001b[1;32m     13\u001b[0m     \u001b[0;31m# Define Dirichlet boundary conditions at top and bottom boundaries\u001b[0m\u001b[0;34m\u001b[0m\u001b[0;34m\u001b[0m\u001b[0;34m\u001b[0m\u001b[0m\n\u001b[0;32m---> 14\u001b[0;31m     bcs = [DirichletBC(W, G, boundaries, 2),\n\u001b[0m\u001b[1;32m     15\u001b[0m     DirichletBC(W, (0.0,0), boundaries, 4)]\n\u001b[1;32m     16\u001b[0m \u001b[0;34m\u001b[0m\u001b[0m\n",
            "\u001b[0;32m/usr/lib/python3/dist-packages/dolfin/fem/dirichletbc.py\u001b[0m in \u001b[0;36m__init__\u001b[0;34m(self, *args, **kwargs)\u001b[0m\n\u001b[1;32m    129\u001b[0m             \u001b[0;32mraise\u001b[0m \u001b[0mRuntimeError\u001b[0m\u001b[0;34m(\u001b[0m\u001b[0;34m\"Invalid keyword arguments\"\u001b[0m\u001b[0;34m,\u001b[0m \u001b[0mkwargs\u001b[0m\u001b[0;34m)\u001b[0m\u001b[0;34m\u001b[0m\u001b[0;34m\u001b[0m\u001b[0m\n\u001b[1;32m    130\u001b[0m \u001b[0;34m\u001b[0m\u001b[0m\n\u001b[0;32m--> 131\u001b[0;31m         \u001b[0msuper\u001b[0m\u001b[0;34m(\u001b[0m\u001b[0;34m)\u001b[0m\u001b[0;34m.\u001b[0m\u001b[0m__init__\u001b[0m\u001b[0;34m(\u001b[0m\u001b[0;34m*\u001b[0m\u001b[0margs\u001b[0m\u001b[0;34m)\u001b[0m\u001b[0;34m\u001b[0m\u001b[0;34m\u001b[0m\u001b[0m\n\u001b[0m",
            "\u001b[0;31mRuntimeError\u001b[0m: \n\n*** -------------------------------------------------------------------------\n*** DOLFIN encountered an error. If you are not able to resolve this issue\n*** using the information listed below, you can ask for help at\n***\n***     fenics-support@googlegroups.com\n***\n*** Remember to include the error message listed below and, if possible,\n*** include a *minimal* running example to reproduce the error.\n***\n*** -------------------------------------------------------------------------\n*** Error:   Unable to create Dirichlet boundary condition.\n*** Reason:  Illegal value dimension (2), expecting (3).\n*** Where:   This error was encountered inside DirichletBC.cpp.\n*** Process: 0\n*** \n*** DOLFIN version: 2019.1.0\n*** Git changeset:  unknown\n*** -------------------------------------------------------------------------\n"
          ]
        }
      ]
    }
  ]
}