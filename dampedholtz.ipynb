{
  "nbformat": 4,
  "nbformat_minor": 0,
  "metadata": {
    "colab": {
      "name": "dampedholtz",
      "provenance": [],
      "collapsed_sections": []
    },
    "kernelspec": {
      "name": "python3",
      "display_name": "Python 3"
    }
  },
  "cells": [
    {
      "cell_type": "code",
      "metadata": {
        "id": "I04cXvZJvHUa",
        "colab_type": "code",
        "colab": {
          "base_uri": "https://localhost:8080/",
          "height": 35
        },
        "outputId": "ffe000fd-4305-4e46-ff5e-5f9c8dfe7fb3"
      },
      "source": [
        "from IPython.utils import io\n",
        "from google.colab import files\n",
        "\n",
        "import platform, sys\n",
        "python_version=platform.python_version()\n",
        "from distutils.version import LooseVersion, StrictVersion\n",
        "\n",
        "\n",
        "with io.capture_output() as captured:\n",
        "  if ( LooseVersion(python_version) < LooseVersion(\"3.0.0\")):\n",
        "      print(\"Python3 is needed!\");\n",
        "      print(\"How to fix: Runtime/Change_runtime_type/Python 3\");\n",
        "      sys.exit()\n",
        "      \n",
        "  try:\n",
        "      from dolfin import *; from mshr import *\n",
        "  except ImportError as e:\n",
        "      !apt-get install -y -qq software-properties-common python-software-properties module-init-tools\n",
        "      !add-apt-repository -y ppa:fenics-packages/fenics\n",
        "      !apt-get update -qq\n",
        "      !apt install -y --no-install-recommends fenics\n",
        "      from dolfin import *; from mshr import *\n",
        "    \n",
        "import matplotlib.pyplot as plt;\n",
        "from IPython.display import clear_output, display; import time; import dolfin.common.plotting as fenicsplot \n",
        "import time\n",
        "\n",
        "import os, sys, shutil\n",
        "\n",
        "dolfin_version = dolfin.__version__\n",
        "print ('dolfin version:', dolfin_version)\n",
        "\n",
        "!rm -rf * # clean up all files"
      ],
      "execution_count": null,
      "outputs": [
        {
          "output_type": "stream",
          "text": [
            "dolfin version: 2019.1.0\n"
          ],
          "name": "stdout"
        }
      ]
    },
    {
      "cell_type": "code",
      "metadata": {
        "id": "VaSgj7uZvLu6",
        "colab_type": "code",
        "colab": {}
      },
      "source": [
        "class Bottom(SubDomain):\n",
        "    def inside(self, x, on_boundary):\n",
        "        return near(x[1], -1)\n",
        "\n",
        "class Top(SubDomain):\n",
        "    def inside(self, x, on_boundary):\n",
        "        return near(x[1], 4.0)\n",
        "class Left(SubDomain):\n",
        "    def inside(self, x, on_boundary):\n",
        "        return near(x[0], 0)\n",
        "\n",
        "class Right(SubDomain):\n",
        "    def inside(self, x, on_boundary):\n",
        "        return near(x[0], 5.0)\n",
        "\n",
        "\n",
        "# Define domain\n",
        "domain = Rectangle(Point(0, -1), Point(5, 4))\n",
        "\n",
        "\n",
        "# Initialize sub-domain instances\n",
        "top = Top()\n",
        "left = Left()\n",
        "right = Right()\n",
        "bottom = Bottom()\n",
        "\n",
        "#initialize mesh\n",
        "mesh = generate_mesh(domain, 100)\n",
        "\n",
        "# Initialize mesh function for interior domains\n",
        "domains = MeshFunction(\"size_t\", mesh,2)\n",
        "\n",
        "boundaries = MeshFunction(\"size_t\", mesh,1)\n",
        "boundaries.set_all(0)\n",
        "left.mark(boundaries, 1)\n",
        "top.mark(boundaries, 2)\n",
        "right.mark(boundaries, 3)\n",
        "bottom.mark(boundaries, 4)"
      ],
      "execution_count": null,
      "outputs": []
    },
    {
      "cell_type": "code",
      "metadata": {
        "id": "T1y5SlNJvRm2",
        "colab_type": "code",
        "colab": {}
      },
      "source": [
        "#Helmholtz equation with Dirichlet boundary conditions\n",
        "def Helmholtz(mesh, k, alpha, xs,f_r):\n",
        "    \n",
        "# squared wavenumber k\n",
        "\n",
        " #damping coefficient alpha\n",
        "\n",
        "# Define finite elements spaces and build mixed space\n",
        "  V=VectorFunctionSpace(mesh,\"CG\",1,dim=2)\n",
        "\n",
        "# Define Dirichlet boundary conditions at top(2) and (bottom)(4), right(3), left (1) boundaries\n",
        "  bcs = [DirichletBC(V, (0.0,0), boundaries, 1), DirichletBC(V, (0.0,0), boundaries, 2), \n",
        "DirichletBC(V, (0.0,0), boundaries, 3), DirichletBC(V, (0,0), boundaries, 4)]\n",
        "\n",
        "# define variational problem/weak form as a vector\n",
        "  (u_r, u_i) = TrialFunction(V)\n",
        "  (v_r, v_i) = TestFunction(V)\n",
        "\n",
        "  a_r = (-inner(grad(u_r), grad(v_r)) + k**2*u_r*v_r-alpha*k*u_i*v_r) * dx\n",
        "  a_i = (-inner(grad(u_i), grad(v_i)) + k**2*u_i*v_i + k*alpha*u_r*v_i) * dx\n",
        "  L_r = f_r * v_r * dx #look up degree\n",
        "  L_i = Constant(0) * v_i * dx\n",
        "\n",
        "  a = a_r + a_i\n",
        "  L = L_r + L_i\n",
        "  A, b = assemble_system(a, L, bcs) #include boundary conditions (mass matrix A)\n",
        "\n",
        "#define inhomogenity\n",
        "  delta = PointSource(V, xs, 1)  # negative amplitude accounts for -v in inhomogeneous wave equation (1/c^2)(u''-grad^2u)=-v\n",
        "  delta.apply(b)                # xs=Point(2.5,1.5) for example\n",
        "\n",
        "\n",
        "\n",
        "# Compute solution\n",
        "  u = Function(V)\n",
        "  solve(A, u.vector(), b)\n",
        "  (u_r, u_i) = u.split()\n",
        "\n",
        "# Plot sigma and u\n",
        "  plt.figure()\n",
        "  plot(u_r)\n",
        "\n",
        "  plt.figure()\n",
        "  plot(u_i)\n",
        "\n",
        "  plt.show()\n",
        "  return u_r, u_i"
      ],
      "execution_count": null,
      "outputs": []
    },
    {
      "cell_type": "code",
      "metadata": {
        "id": "POYG9YoIw1px",
        "colab_type": "code",
        "colab": {
          "base_uri": "https://localhost:8080/",
          "height": 556
        },
        "outputId": "df2beebe-68eb-439d-9bdf-479952784517"
      },
      "source": [
        "alpha=10 #damping coefficient \n",
        "k=Constant(2*pi*5) #wave number\n",
        "xs=Point(2.5, 1.5)\n",
        "f=Expression(\"sin(x[0])\", degree=2)\n",
        "Helmholtz(mesh, k, alpha, xs,f)"
      ],
      "execution_count": null,
      "outputs": [
        {
          "output_type": "display_data",
          "data": {
            "image/png": "[encoded data removed]",
            "text/plain": [
              "<Figure size 432x288 with 1 Axes>"
            ]
          },
          "metadata": {
            "tags": [],
            "needs_background": "light"
          }
        },
        {
          "output_type": "display_data",
          "data": {
            "image/png": "[encoded data removed]",
            "text/plain": [
              "<Figure size 432x288 with 1 Axes>"
            ]
          },
          "metadata": {
            "tags": [],
            "needs_background": "light"
          }
        },
        {
          "output_type": "execute_result",
          "data": {
            "text/plain": [
              "(Coefficient(FunctionSpace(Mesh(VectorElement(FiniteElement('Lagrange', triangle, 1), dim=2), 3), FiniteElement('Lagrange', triangle, 1)), 296),\n",
              " Coefficient(FunctionSpace(Mesh(VectorElement(FiniteElement('Lagrange', triangle, 1), dim=2), 3), FiniteElement('Lagrange', triangle, 1)), 300))"
            ]
          },
          "metadata": {
            "tags": []
          },
          "execution_count": 24
        }
      ]
    },
    {
      "cell_type": "code",
      "metadata": {
        "id": "Klu5LZbixW_N",
        "colab_type": "code",
        "colab": {
          "base_uri": "https://localhost:8080/",
          "height": 556
        },
        "outputId": "40ed6052-ccd4-4c01-d553-62808850d12e"
      },
      "source": [
        "alpha1=15\n",
        "k1=Constant(pi)\n",
        "f1=Constant(0.0)\n",
        "Helmholtz(mesh, k1, alpha1, xs,f1)"
      ],
      "execution_count": null,
      "outputs": [
        {
          "output_type": "display_data",
          "data": {
            "image/png": "[encoded data removed]",
            "text/plain": [
              "<Figure size 432x288 with 1 Axes>"
            ]
          },
          "metadata": {
            "tags": [],
            "needs_background": "light"
          }
        },
        {
          "output_type": "display_data",
          "data": {
            "image/png": "[encoded data removed]",
            "text/plain": [
              "<Figure size 432x288 with 1 Axes>"
            ]
          },
          "metadata": {
            "tags": [],
            "needs_background": "light"
          }
        },
        {
          "output_type": "execute_result",
          "data": {
            "text/plain": [
              "(Coefficient(FunctionSpace(Mesh(VectorElement(FiniteElement('Lagrange', triangle, 1), dim=2), 3), FiniteElement('Lagrange', triangle, 1)), 1210),\n",
              " Coefficient(FunctionSpace(Mesh(VectorElement(FiniteElement('Lagrange', triangle, 1), dim=2), 3), FiniteElement('Lagrange', triangle, 1)), 1214))"
            ]
          },
          "metadata": {
            "tags": []
          },
          "execution_count": 52
        }
      ]
    }
  ]
}